{
  "nbformat": 4,
  "nbformat_minor": 0,
  "metadata": {
    "colab": {
      "provenance": [],
      "include_colab_link": true
    },
    "kernelspec": {
      "name": "python3",
      "display_name": "Python 3"
    },
    "language_info": {
      "name": "python"
    }
  },
  "cells": [
    {
      "cell_type": "markdown",
      "metadata": {
        "id": "view-in-github",
        "colab_type": "text"
      },
      "source": [
        "<a href=\"https://colab.research.google.com/github/scrrodrigues/pretalab-SandyRodrigues-ciclo11/blob/main/Exerc%C3%ADcio_Final_SandyRodrigues.ipynb\" target=\"_parent\"><img src=\"https://colab.research.google.com/assets/colab-badge.svg\" alt=\"Open In Colab\"/></a>"
      ]
    },
    {
      "cell_type": "markdown",
      "source": [
        "# Contagem de Medalhas\n",
        "\n",
        "Crie um programa que receba o número de medalhas de ouro, prata e bronze de um país nas Olimpíadas e calcule o total de medalhas.\n",
        "Quando escrever 'sair', o programa deverá encerrar e mostrar na tela o ranking de medalhas no formato:"
      ],
      "metadata": {
        "id": "RQN1e5FZY6SZ"
      }
    },
    {
      "cell_type": "code",
      "source": [
        "#Ranking de medalhas:\n",
        "#Brasil: 7 medalhas\n",
        "#França: 6 medalhas\n",
        "#Argentina: 3 medalhas"
      ],
      "metadata": {
        "id": "gCq_KLHzZSzb"
      },
      "execution_count": null,
      "outputs": []
    },
    {
      "cell_type": "code",
      "source": [
        "def calcular_medalhas():\n",
        "    ranking = {}\n",
        "\n",
        "    while True:\n",
        "        pais = input(\"Digite o nome do país (ou 'sair' para encerrar): \")\n",
        "        if pais == 'sair':\n",
        "            break\n",
        "\n",
        "        ouro = int(input(\"Digite o número de medalhas de ouro: \"))\n",
        "        prata = int(input(\"Digite o número de medalhas de prata: \"))\n",
        "        bronze = int(input(\"Digite o número de medalhas de bronze: \"))\n",
        "\n",
        "        ranking[pais] = (ouro, prata, bronze)\n",
        "\n",
        "    ranking_ordenado = sorted(ranking.items(), key=lambda x: (x[1][0], x[1][1], x[1][2]), reverse=True)\n",
        "\n",
        "    print(\"\\n#Ranking de medalhas:\")\n",
        "    for i, (pais, medalhas) in enumerate(ranking_ordenado, 1):\n",
        "        ouro, prata, bronze = medalhas\n",
        "        total_medalhas = ouro + prata + bronze\n",
        "        print(f\"{pais}: {total_medalhas} medalhas (Ouro: {ouro}, Prata: {prata}, Bronze: {bronze})\")\n",
        "\n",
        "\n",
        "calcular_medalhas()"
      ],
      "metadata": {
        "colab": {
          "base_uri": "https://localhost:8080/"
        },
        "id": "vixWOGQT40yM",
        "outputId": "f783f9c1-4098-4372-ecda-f4e4723f3ff7"
      },
      "execution_count": null,
      "outputs": [
        {
          "output_type": "stream",
          "name": "stdout",
          "text": [
            "Digite o nome do país (ou 'sair' para encerrar): cuba\n",
            "Digite o número de medalhas de ouro: 8\n",
            "Digite o número de medalhas de prata: 9\n",
            "Digite o número de medalhas de bronze: 10\n",
            "Digite o nome do país (ou 'sair' para encerrar): brasil\n",
            "Digite o número de medalhas de ouro: 10\n",
            "Digite o número de medalhas de prata: 9\n",
            "Digite o número de medalhas de bronze: 8\n",
            "Digite o nome do país (ou 'sair' para encerrar): italia\n",
            "Digite o número de medalhas de ouro: 8\n",
            "Digite o número de medalhas de prata: 7\n",
            "Digite o número de medalhas de bronze: 6\n",
            "Digite o nome do país (ou 'sair' para encerrar): sair\n",
            "\n",
            "#Ranking de medalhas:\n",
            "brasil: 27 medalhas (Ouro: 10, Prata: 9, Bronze: 8)\n",
            "cuba: 27 medalhas (Ouro: 8, Prata: 9, Bronze: 10)\n",
            "italia: 21 medalhas (Ouro: 8, Prata: 7, Bronze: 6)\n"
          ]
        }
      ]
    }
  ]
}